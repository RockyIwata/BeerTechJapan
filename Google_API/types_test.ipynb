{
 "cells": [
  {
   "cell_type": "code",
   "execution_count": 1,
   "metadata": {},
   "outputs": [],
   "source": [
    "import requests\n",
    "import json\n",
    "from dotenv import load_dotenv\n",
    "import os\n",
    "load_dotenv()\n",
    "\n",
    "GMAPS_API_KEY = os.getenv(\"GMAPS_API_KEY\")"
   ]
  },
  {
   "cell_type": "code",
   "execution_count": 2,
   "metadata": {},
   "outputs": [
    {
     "name": "stdout",
     "output_type": "stream",
     "text": [
      "Name: Tokyo Metropolitan Government Building No. 1 32nd Floor Staff Cafeteria\n",
      "Types: ['restaurant', 'food', 'point_of_interest', 'establishment']\n",
      "---\n"
     ]
    }
   ],
   "source": [
    "# Google Places APIのURL\n",
    "url = \"https://maps.googleapis.com/maps/api/place/nearbysearch/json\"\n",
    "\n",
    "# パラメータの設定\n",
    "params = {\n",
    "    'location': '35.6895,139.6917',  # 東京タワーの位置情報\n",
    "    'radius': '50',  # 検索範囲（メートル）\n",
    "    'type': 'restaurant',  # タイプを飲食店に限定\n",
    "    'key': GMAPS_API_KEY\n",
    "}\n",
    "\n",
    "# APIリクエスト\n",
    "response = requests.get(url, params=params)\n",
    "data = response.json()\n",
    "\n",
    "# 結果の表示\n",
    "for place in data['results']:\n",
    "    print(f\"Name: {place['name']}\")\n",
    "    if 'types' in place:\n",
    "        print(f\"Types: {place['types']}\")  # ジャンルを表示\n",
    "    print(\"---\")"
   ]
  }
 ],
 "metadata": {
  "kernelspec": {
   "display_name": "Python 3",
   "language": "python",
   "name": "python3"
  },
  "language_info": {
   "codemirror_mode": {
    "name": "ipython",
    "version": 3
   },
   "file_extension": ".py",
   "mimetype": "text/x-python",
   "name": "python",
   "nbconvert_exporter": "python",
   "pygments_lexer": "ipython3",
   "version": "3.11.4"
  }
 },
 "nbformat": 4,
 "nbformat_minor": 2
}
